{
 "cells": [
  {
   "cell_type": "markdown",
   "metadata": {},
   "source": [
    "# Homework 2: Integration at Work\n",
    "Physics 177, Spring 2017  (Prof. Tanedo)  \n",
    "**Due**: Tuesday, April 25\n",
    "\n",
    "William Hicks"
   ]
  },
  {
   "cell_type": "markdown",
   "metadata": {},
   "source": [
    "## 1. Simpson's Rule, Again\n",
    "\n",
    "Write another integrator function using **Simpson's rule**. You may adapt your code from Homework 1. The integrator should take the following arguments:\n",
    "* A function, $f$\n",
    "* Two real numbers giving the limits of integration, $a$ and $b$\n",
    "* The number of steps $N$ to sample\n",
    "\n",
    "This differs from Homework 1, where you specified the $\\Delta x$ rather than $N$. There are different ways of implementing Simpson's rule. Here's one example from (5.9) of Newman's *Computational Physics*:\n",
    "\n",
    "$\\displaystyle I(a,b) = \\frac{1}{3}\\Delta x\\left[ f(a) + f(b) + 4 \\sum_{k \\text{ odd}}^{N-1} f(a+k\\Delta x) + 2 \\sum_{k \\text{ even}}^{N-2} f(a+k\\Delta x) \\right]$ ,\n",
    "\n",
    "where the step size is $\\Delta x = (b-a)/N$.\n",
    "\n",
    "You can fill in the following function stub:"
   ]
  },
  {
   "cell_type": "code",
   "execution_count": 49,
   "metadata": {
    "collapsed": true
   },
   "outputs": [],
   "source": [
    "import numpy as np\n",
    "\n",
    "def integrate_HW2(f,a,b,N):\n",
    "    \"\"\"\n",
    "    Integrate f from a to b using Simpson's rule with N steps\n",
    "    \"\"\"\n",
    "    b=float(b)\n",
    "    a=float(a)\n",
    "    delta_x=(b-a)/N    \n",
    "    \n",
    "    odd_ans=0    \n",
    "    for k in range(1,N,2):\n",
    "        odd_ans+=f(a+k*delta_x)\n",
    "    even_ans=0\n",
    "    for k in range(2,N-1,2):\n",
    "        even_ans+=f(a+k*delta_x)\n",
    "    \n",
    "    simp=(1.0/3)*delta_x*(f(a)+f(b)+4*odd_ans+2*even_ans)    \n",
    "    return simp "
   ]
  },
  {
   "cell_type": "markdown",
   "metadata": {},
   "source": [
    "Now test this on a nice function:"
   ]
  },
  {
   "cell_type": "code",
   "execution_count": 50,
   "metadata": {
    "collapsed": false
   },
   "outputs": [
    {
     "data": {
      "text/plain": [
       "0.9999999999999999"
      ]
     },
     "execution_count": 50,
     "metadata": {},
     "output_type": "execute_result"
    }
   ],
   "source": [
    "def test_function(x):\n",
    "    return 4.0*x**3\n",
    "\n",
    "integrate_HW2(test_function,0,1,100)"
   ]
  },
  {
   "cell_type": "markdown",
   "metadata": {
    "collapsed": true
   },
   "source": [
    "## 2. Diffraction Limit of a Telescope\n",
    "[Adapted from Exercise 5.4 from *Computational Physics* by Newman]\n",
    "\n",
    "### Discussion\n",
    "Our ability to resolve detail in astronomical observations is limited by the diffaction of light in our telescopes.  Light from stars can be treated effectively as coming from a point source at infinity. When such light, with wavelength $\\lambda$, passes through the circular aperture of a telescope (which we'll assume to have unit radius) and is focused by the telescope in the focal plane, it produces not a single dot, but a circular diffraction patter consisting of a central spot surrounded by a series of concentric rings. The intensity of the light in this diffraction pattern is given by\n",
    "\n",
    "$\\displaystyle I(r) = \\left(\\frac{J_1(kr)}{kr}\\right)^2 \\ ,$\n",
    "\n",
    "where $r$ is the distance in the focal plane from the center of the diffraction pattern, $k = 2\\pi/\\lambda$ and $J_1(x)$ is a Bessel function. The Bessel functions $J_m(x)$ are given by\n",
    "\n",
    "$\\displaystyle J_m(x) = \\frac{1}{\\pi}\\int_0^\\pi \\cos(m\\theta - x \\sin \\theta) \\, d\\theta\\ ,$ \n",
    "\n",
    "where $m$ is a nonnegative integer and $x\\geq 0$. "
   ]
  },
  {
   "cell_type": "markdown",
   "metadata": {},
   "source": [
    "### A. Coding the Bessel function"
   ]
  },
  {
   "cell_type": "markdown",
   "metadata": {},
   "source": [
    "Write a Python function that calculates the value of $J_m(x)$ using Simpson's rule with $N=1000$ points. "
   ]
  },
  {
   "cell_type": "code",
   "execution_count": 51,
   "metadata": {
    "collapsed": false
   },
   "outputs": [],
   "source": [
    "from math import pi as pi\n",
    "from math import sin as sin\n",
    "from math import cos as cos\n",
    "\n",
    "def J(m,x,N=1000):\n",
    "    \"\"\"\n",
    "    mth Bessel function of the first kind evaluated at real number x,  \n",
    "    calculated using an integral representation with Simpson's rule and 1000 steps\n",
    "    \"\"\"\n",
    "    def integrated_function(theta):\n",
    "        return cos(m*theta-x*sin(theta))\n",
    "    answer=(1.0/pi)*integrate_HW2(integrated_function,0,pi,N)\n",
    "    \n",
    "    return answer"
   ]
  },
  {
   "cell_type": "markdown",
   "metadata": {},
   "source": [
    "### B. Plotting these Bessel functions\n",
    "Plot the Bessel functions $J_0$, $J_1$, and $J_2$ from $x=0$ to $x=20$. \n",
    "\n",
    "Make sure that you have installed `matplotlib`. You can do this using `pip` at the command line: (`pip` vs `pip3` depends on your installation)  \n",
    "`pip3 install matplotlib`\n",
    "\n",
    "Note: if the plot doesn't show up in this notebook, you may need to run  \n",
    "`%matplotlib inline`\n",
    "in the notebook\n",
    "\n",
    "Follow the template at the bottom of https://github.com/Physics177-2017/Lec05-numpyintro/blob/master/Numpy%20Introduction.ipynb"
   ]
  },
  {
   "cell_type": "code",
   "execution_count": 52,
   "metadata": {
    "collapsed": true
   },
   "outputs": [],
   "source": [
    "%matplotlib inline\n",
    "import matplotlib.pyplot as plt\n",
    "import numpy as np\n",
    "\n",
    "# %matplotlib inline ## uncomment if necessary"
   ]
  },
  {
   "cell_type": "code",
   "execution_count": 53,
   "metadata": {
    "collapsed": false
   },
   "outputs": [
    {
     "data": {
      "image/png": "[encoded data removed]",
      "text/plain": [
       "<matplotlib.figure.Figure at 0x1128f6c90>"
      ]
     },
     "metadata": {},
     "output_type": "display_data"
    }
   ],
   "source": [
    "# Create a Numpy array of sampling points\n",
    "x = np.linspace(0, 20, 100)\n",
    "\n",
    "# Create a \"vectorized\" version of J(m,x) that \n",
    "# accepts Numpy arrays as arguments\n",
    "Jnp = np.vectorize(J)\n",
    "\n",
    "colors=['red','blue','green']\n",
    "for m in range(0,3):\n",
    "    plt.plot(x,Jnp(m,x),label='$J_'+str(m)+'(x)$',color=colors[m])\n",
    "\n",
    "plt.title(\"Bessel Functions\")\n",
    "plt.legend()\n",
    "plt.show()"
   ]
  },
  {
   "cell_type": "markdown",
   "metadata": {},
   "source": [
    "### C. Comparing to Sines\n",
    "\n",
    "Over the same range as before, plot $J_0(x)$, $J_1(x)$ (as you did above) and the following functions:\n",
    "\n",
    "$\\displaystyle f_0(x) = \\sqrt{\\frac{2}{\\pi x}} \\cos\\left(\\pi - \\frac{\\pi}{4}\\right)$  \n",
    "$\\displaystyle f_1(x) = \\sqrt{\\frac{2}{\\pi x}} \\cos\\left(\\pi - \\frac{3\\pi}{4}\\right)$\n",
    "\n",
    "*Remark*: the more general formula is:  \n",
    "$\\displaystyle f_m(x) = \\sqrt{\\frac{2}{\\pi x}} \\cos\\left(\\pi - \\frac{(2m+1)\\pi}{4}\\right)$,  \n",
    "this is supposed to be a good approximation of $J_m(x)$ for large $x$."
   ]
  },
  {
   "cell_type": "code",
   "execution_count": 54,
   "metadata": {
    "collapsed": false
   },
   "outputs": [
    {
     "data": {
      "image/png": "[encoded data removed]",
      "text/plain": [
       "<matplotlib.figure.Figure at 0x112311350>"
      ]
     },
     "metadata": {},
     "output_type": "display_data"
    }
   ],
   "source": [
    "# Write your own functions f0(x) and f1(x),\n",
    "# then follow the Problem 2B template to plot f0, f1, J0, and J1\n",
    "x=np.linspace(0.01,20,100)\n",
    "\n",
    "def fm(m,x):\n",
    "    return ((2.0/(pi*x))**0.5)*cos(pi-((2*m+1)*pi/4.0))\n",
    "fmnp=np.vectorize(fm)\n",
    "colors=['red','blue']\n",
    "\n",
    "for m in range(0,2):\n",
    "    color=colors[m]\n",
    "    plt.plot(x,Jnp(m,x) ,label='$J_'+str(m)+'(x)$',color=color)\n",
    "    plt.plot(x,fmnp(m,x),label='$f_'+str(m)+'(x)$',color=color,linestyle='--')\n",
    "\n",
    "ax=plt.subplot(111)\n",
    "ax.set_ylim(ymin=-2,ymax=2)\n",
    "\n",
    "plt.title('Bessel Functions and Approximations')\n",
    "plt.legend()\n",
    "plt.show()\n"
   ]
  },
  {
   "cell_type": "markdown",
   "metadata": {},
   "source": [
    "### D. Plotting Diffraction Patterns\n",
    "\n",
    "Use the equation for $I(r)$ above to plot the diffraction pattern seen, for example, by a telescope when viewing a point source at the origin. Your plot should look like an **Airy disk**:\n",
    "\n",
    "![title](https://upload.wikimedia.org/wikipedia/commons/1/14/Airy-pattern.svg)\n",
    "\n",
    "Image (and discussion) from:\n",
    "https://en.wikipedia.org/wiki/Airy_disk\n",
    "\n",
    "For our purposes, use $\\lambda = 500~\\text{nm}$. Your plot should cover values of $r$ from zero up to $1~\\mu\\text{m}$. Be careful with units! Numerical functions don't know how to handle units, so you should make sure you're consistent everywhere. I suggest using the Numpy functions **meshgrid** and **pcolormesh**, as demonstrated below.\n"
   ]
  },
  {
   "cell_type": "code",
   "execution_count": 55,
   "metadata": {
    "collapsed": false,
    "scrolled": true
   },
   "outputs": [
    {
     "data": {
      "image/png": "[encoded data removed]",
      "text/plain": [
       "<matplotlib.figure.Figure at 0x112107910>"
      ]
     },
     "metadata": {},
     "output_type": "display_data"
    }
   ],
   "source": [
    "side = np.linspace(-10,10,50)\n",
    "X,Y = np.meshgrid(side,side)\n",
    "Z = np.sin(X**2 + Y**2)\n",
    "plt.pcolormesh(X,Y,Z)\n",
    "plt.title(\"Silly Plot\")\n",
    "plt.show()"
   ]
  },
  {
   "cell_type": "markdown",
   "metadata": {},
   "source": [
    "Try to plot the Airy disk using a variation of the above code, where `Z` is given by $I(r)$, which you have to code in appropriately. "
   ]
  },
  {
   "cell_type": "code",
   "execution_count": 56,
   "metadata": {
    "collapsed": false
   },
   "outputs": [
    {
     "data": {
      "image/png": "[encoded data removed]",
      "text/plain": [
       "<matplotlib.figure.Figure at 0x111c0b5d0>"
      ]
     },
     "metadata": {},
     "output_type": "display_data"
    }
   ],
   "source": [
    "def I(k,r):\n",
    "    return (J(1,k*r)/(k*r))**2\n",
    "Inp=np.vectorize(I)\n",
    "a=(2**-.5)*1e-6\n",
    "side = np.linspace(-a,a,100)\n",
    "X,Y = np.meshgrid(side,side)\n",
    "        \n",
    "wavelength=500e-9\n",
    "k=2*pi/wavelength\n",
    "Z=Inp(k,(X**2+Y**2)**.5)\n",
    "plt.pcolormesh(X,Y,Z)\n",
    "plt.title(\"Diffraction Pattern\")\n",
    "plt.colorbar()\n",
    "plt.show()"
   ]
  },
  {
   "cell_type": "markdown",
   "metadata": {},
   "source": [
    "You should find something that looks like a Gaussian, but without the diffraction patterns being immediately obvious. This is because the intensity near the center is so much brighter than the intensity of the Airy disks, so the disks are hard to see using the default plot parameters.  \n",
    "\n",
    "The `vmax` option tells you what the maximum contour value should be; anything above this value will be mapped to the same \"large value\" color."
   ]
  },
  {
   "cell_type": "code",
   "execution_count": 57,
   "metadata": {
    "collapsed": false
   },
   "outputs": [
    {
     "data": {
      "image/png": "[encoded data removed]",
      "text/plain": [
       "<matplotlib.figure.Figure at 0x111b42190>"
      ]
     },
     "metadata": {},
     "output_type": "display_data"
    }
   ],
   "source": [
    "plt.pcolormesh(X,Y,Z,vmax=0.0025)\n",
    "plt.title(\"Airy Disks\")\n",
    "plt.colorbar()\n",
    "plt.show()"
   ]
  },
  {
   "cell_type": "markdown",
   "metadata": {},
   "source": [
    "Play with `vmax` to try to resolve the Airy disks. I got mine to work for `vmax=0.01`.\n",
    "\n",
    "\n",
    "### X. Extra credit\n",
    "\n",
    "Refer to the `matplotlib` documentation (or any other resource) to play with the plot options. Change the aspect ratio so that the x- and y- spacings are equal... in other words: make circles look like circles, not ovals. Also play with the color schemes. Can you make a plot that looks like something an astronomer would see (white for areas where there are photons, black for areas where there are no photons). Can you put a plot legend that quantifies the intensity of the plot?"
   ]
  },
  {
   "cell_type": "code",
   "execution_count": 58,
   "metadata": {
    "collapsed": false
   },
   "outputs": [
    {
     "data": {
      "image/png": "[encoded data removed]",
      "text/plain": [
       "<matplotlib.figure.Figure at 0x111c67790>"
      ]
     },
     "metadata": {},
     "output_type": "display_data"
    }
   ],
   "source": [
    "plt.pcolormesh(X,Y,Z,cmap=plt.cm.Greys_r)\n",
    "plt.title(\"Diffraction Pattern (Greyscale)\")\n",
    "plt.colorbar()\n",
    "plt.show()"
   ]
  },
  {
   "cell_type": "markdown",
   "metadata": {},
   "source": [
    "## 2. Gaussian Quadrature\n",
    "\n",
    "Download the implementation of **Gaussian Quadrature** from Mark Newman's *Computational Physics* website, or use the copy of `gaussxw.py` included in this GitHub repo. \n",
    "\n",
    "A sample program is provided below. Note how the package is called using  \n",
    "`from gaussxw import gaussxw`  \n",
    "... this assumes that `gaussxw.py` is in the same directory as this notebook.\n",
    "\n",
    "Here's how the package works:"
   ]
  },
  {
   "cell_type": "code",
   "execution_count": 59,
   "metadata": {
    "collapsed": false
   },
   "outputs": [],
   "source": [
    "from gaussxw import gaussxw\n",
    "\n",
    "def f(x):\n",
    "    return x**4 - 2*x + 1\n",
    "\n",
    "N=3    # number of steps\n",
    "a=0.0  # lower limit of integration\n",
    "b=2.0  # upper limit of integration\n",
    "\n",
    "x,w = gaussxw(N)\n",
    "# gaussxw(N) returns the sample points x and weights w\n",
    "# for the reference integral (-1,1)\n",
    "\n",
    "# Now define x' and w' to be the sample points and weights\n",
    "# for the interval (a,b). We derived this transformation\n",
    "# in lecture 5.\n",
    "xp = 0.5*(b-a)*x + 0.5*(b+a)\n",
    "wp = 0.5*(b-a)*w\n",
    "\n",
    "# Now estimate the integral of f by summing\n",
    "# the sample points and the weights\n",
    "total = 0.0\n",
    "for k in range(N):\n",
    "    total += wp[k]*f(xp[k])\n",
    "    \n",
    "#print(s)"
   ]
  },
  {
   "cell_type": "markdown",
   "metadata": {},
   "source": [
    "To better understand this, actually print the inputs and outputs"
   ]
  },
  {
   "cell_type": "code",
   "execution_count": 60,
   "metadata": {
    "collapsed": false
   },
   "outputs": [
    {
     "name": "stdout",
     "output_type": "stream",
     "text": [
      "[  7.74596669e-01  -8.96888137e-17  -7.74596669e-01]\n",
      "[ 0.55555556  0.88888889  0.55555556]\n"
     ]
    }
   ],
   "source": [
    "print(x)\n",
    "print(w)"
   ]
  },
  {
   "cell_type": "markdown",
   "metadata": {},
   "source": [
    "### A. Plotting the weights\n",
    "Create a histogram (or scatter plot) of the sample points and weights that come from the Gaussian quadrature procedure as encoded in `gaussxw`. You should have a plot whose y-axis is the weight, and whose x-axis is the sample position. \n",
    "\n",
    "Note: you will have to convert the Python arrays that `gaussxw` outputs into Numpy arrays. You can do this with `np.array(x)` where `x` is a Python array.\n",
    "\n",
    "Make separate plots for $N = 5, 110, 100$."
   ]
  },
  {
   "cell_type": "code",
   "execution_count": 61,
   "metadata": {
    "collapsed": false
   },
   "outputs": [],
   "source": [
    "def xs_and_ws(N):\n",
    "    x,w=gaussxw(N)\n",
    "    plt.scatter(x,w)\n",
    "    plt.show()\n",
    "    return"
   ]
  },
  {
   "cell_type": "code",
   "execution_count": 62,
   "metadata": {
    "collapsed": false
   },
   "outputs": [
    {
     "data": {
      "image/png": "[encoded data removed]",
      "text/plain": [
       "<matplotlib.figure.Figure at 0x111c009d0>"
      ]
     },
     "metadata": {},
     "output_type": "display_data"
    }
   ],
   "source": [
    "xs_and_ws(5)"
   ]
  },
  {
   "cell_type": "code",
   "execution_count": 63,
   "metadata": {
    "collapsed": false
   },
   "outputs": [
    {
     "data": {
      "image/png": "[encoded data removed]",
      "text/plain": [
       "<matplotlib.figure.Figure at 0x113082290>"
      ]
     },
     "metadata": {},
     "output_type": "display_data"
    }
   ],
   "source": [
    "xs_and_ws(110)"
   ]
  },
  {
   "cell_type": "code",
   "execution_count": 64,
   "metadata": {
    "collapsed": false
   },
   "outputs": [
    {
     "data": {
      "image/png": "[encoded data removed]",
      "text/plain": [
       "<matplotlib.figure.Figure at 0x1131fdb90>"
      ]
     },
     "metadata": {},
     "output_type": "display_data"
    }
   ],
   "source": [
    "xs_and_ws(100)"
   ]
  },
  {
   "cell_type": "markdown",
   "metadata": {},
   "source": [
    "Redo the steps in Problem 1A and Problem 1B using **Gaussian quadrature** rather than Simpson's rule. Use `gaussxw` as shown above. \n",
    "\n",
    "In order to do this, you'll need a way a way to get $J_m(x)$ samples. I suggest using the built in \"Bessel function of the first kind\" function in `scipy`.\n",
    "\n",
    "You may need to install `scipy` using the following command at the terminal  \n",
    "`pip3 install scipy`"
   ]
  },
  {
   "cell_type": "code",
   "execution_count": 65,
   "metadata": {
    "collapsed": false,
    "scrolled": true
   },
   "outputs": [
    {
     "name": "stdout",
     "output_type": "stream",
     "text": [
      "0.440050585745\n",
      "0.440050585745\n"
     ]
    }
   ],
   "source": [
    "from scipy.special import jv as jv  # jv is the J_m from above\n",
    "\n",
    "print(jv(1,1))## compare this with J(1,1) from Problem 1\n",
    "print J(1,1)"
   ]
  },
  {
   "cell_type": "code",
   "execution_count": 66,
   "metadata": {
    "collapsed": true
   },
   "outputs": [],
   "source": [
    "# Your code here!\n",
    "# Code the Bessel functions as the integral representation shown above\n",
    "# ... except now use jv(m,x) to sample the Bessel functions\n",
    "# ... and focus on the range x in (0,20)\n",
    "# ... and use Gaussian quadrature to do the integration\n",
    "\n",
    "# Then plot your Bessel functions, confirm that they match what you got in Problem 1\n",
    "\n",
    "from gaussxw import gaussxwab\n",
    "\n",
    "def gauss_quad_int(f,a,b,N):\n",
    "    \"\"\"Integrate f from a to b using Gaussian Quadrature with N steps\"\"\"\n",
    "    b=float(b)\n",
    "    a=float(a)\n",
    "    x,w=gaussxwab(N,a,b)\n",
    "    answer=0\n",
    "    for i in range(0,len(x)):\n",
    "        answer+=w[i]*f(x[i])\n",
    "    return answer       \n",
    "    "
   ]
  },
  {
   "cell_type": "code",
   "execution_count": 67,
   "metadata": {
    "collapsed": false
   },
   "outputs": [
    {
     "data": {
      "text/plain": [
       "0.99999999999999856"
      ]
     },
     "execution_count": 67,
     "metadata": {},
     "output_type": "execute_result"
    }
   ],
   "source": [
    "gauss_quad_int(test_function,0,1,100)"
   ]
  },
  {
   "cell_type": "code",
   "execution_count": 68,
   "metadata": {
    "collapsed": false
   },
   "outputs": [
    {
     "data": {
      "image/png": "[encoded data removed]",
      "text/plain": [
       "<matplotlib.figure.Figure at 0x11312d690>"
      ]
     },
     "metadata": {},
     "output_type": "display_data"
    }
   ],
   "source": [
    "x = np.linspace(0, 20, 100)\n",
    "\n",
    "# Create a \"vectorized\" version of J(m,x) that \n",
    "# accepts Numpy arrays as arguments\n",
    "jvnp = np.vectorize(jv)\n",
    "\n",
    "colors=['indianred','darkcyan','darkgreen']\n",
    "for m in range(0,3):\n",
    "    plt.plot(x,jvnp(m,x),label='$J_'+str(m)+'(x)$',color=colors[m])\n",
    "\n",
    "plt.title(\"Bessel Functions\")\n",
    "plt.legend()\n",
    "plt.show()"
   ]
  },
  {
   "cell_type": "markdown",
   "metadata": {},
   "source": [
    "### X Extra Credit: small sampling\n",
    "\n",
    "Your Bessel function plots in Problem 1 and 2 should look the same. See what happens if we become \"cheap\" with our number of samplings. Plot the Bessel functions using Simpsons rule and using Gaussiand quadrature for low values of $N$. "
   ]
  },
  {
   "cell_type": "code",
   "execution_count": 69,
   "metadata": {
    "collapsed": false
   },
   "outputs": [
    {
     "data": {
      "image/png": "[encoded data removed]",
      "text/plain": [
       "<matplotlib.figure.Figure at 0x111aa6750>"
      ]
     },
     "metadata": {},
     "output_type": "display_data"
    }
   ],
   "source": [
    "colors=['red','blue','green']\n",
    "for m in range(0,3):\n",
    "    plt.plot(x,Jnp(m,x,N=10),label='$J_'+str(m)+'(x)$',color=colors[m])\n",
    "plt.legend()\n",
    "plt.show()"
   ]
  },
  {
   "cell_type": "markdown",
   "metadata": {},
   "source": [
    "## 3. Simpson's Rule Error from HW1\n",
    "\n",
    "If you did things correctly in HW1, you will have noticed that your errors using Simpsons rule for a function of the form $f(x) = ax^2$ were strange: they were small and didn't scale as you'd expect. \n",
    "\n",
    "### A. Explain why\n",
    "\n",
    "In your own words, explain why this happened. What would you expect from a function of the form $f(x) = ax^3$?\n",
    "\n",
    "**Hint**: in class we argued that the approximation error using the trapezoidal rule was  \n",
    "$\\displaystyle \\epsilon = \\frac{1}{12} \\delta x^2 \\left[ f'(a) - f'(b) \\right]$.  \n",
    "\n",
    "\n",
    "### X. Extra credit\n",
    "\n",
    "Following Chapter 5.2 of Newman's *Computational Physics*, derive the factor of $1/12$ in the above expression for $\\epsilon$. (This derivation is also the lecture 5 notes.) Derive the analogous approximation error for Simpson's rule. It has the form:\n",
    "\n",
    "$\\displaystyle \\epsilon = \\frac{1}{?} \\Delta x^4 \\left[ \\cdots ? \\cdots \\right]$ ."
   ]
  },
  {
   "cell_type": "markdown",
   "metadata": {},
   "source": [
    "## Part A answer\n",
    "In HW1, the error in the Simpson's rule integration of a function of the form $\\,f(x)=ax^2\\,$ is zero because we fit $\\,f(x)\\,$ to a function of the same form. This is analagous to finding the area of a rectangle by splitting the rectangle up into smaller rectangles and adding their areas (Riemann Sum). \n",
    "\n",
    "For a function of the form $\\,f(x)=ax^3$, Simpson's rule would ***not*** yield an error of zero. I would expect the error to decrease as the number of steps increases until we reach the $\\,10^{-16}\\,$ error limit--after which, it would decrease."
   ]
  },
  {
   "cell_type": "markdown",
   "metadata": {},
   "source": [
    "# Extra credit answer\n",
    "\n",
    "$\\newcommand{\\intf}{\\int_a^bf(x)\\,dx}%\n",
    "\\newcommand{\\intk}{\\int_{x_{k-1}}^{x_k}f(x)\\,dx}%\n",
    "\\newcommand{\\intdx}{\\int_0^{\\Delta x}f(x)\\,dx}$\n",
    "\n",
    "We can break up the integral $\\intf$ into a sum of smaller integrals...\n",
    "$$\\int_a^bf(x)\\,dx=\\sum_{k=1}^N\\intk=\\sum_{k=1}^N\\intdx$$\n",
    "\n",
    "Taylor expanding $\\intf$ about $x_0$ gives...\n",
    "$$\\intf=\\int_a^bdx\\,[f(x_0)+(x-x_0)\\,f'(x_0)+\\frac{1}{2}(x-x_0)^2\\,f''(x_0)+...]$$\n",
    "\n",
    "If we let $x_0=x_{k-1}$, the expansion becomes...\n",
    "$$\\intdx=f(x_{k-1})\\,\\Delta x+\\frac{1}{2}f'(x_{k-1})\\,(\\Delta x)^2+\\frac{1}{6}f''(x_{k-1})\\,(\\Delta x)^3+...$$\n",
    "\n",
    "Similarly, for $x_0=x_{k}$...\n",
    "$$\\intdx=f(x_{k})\\,\\Delta x+\\frac{1}{2}f'(x_{k})\\,(\\Delta x)^2+\\frac{1}{6}f''(x_{k})\\,(\\Delta x)^3+...$$\n",
    "\n",
    "Averaging the previous two expressions gives...\n",
    "$$\\intk=\\frac{1}{2}\\Delta x\\,[f(x_{k-1})+f(x_{k})]+\\frac{1}{4}(\\Delta x)^2\\,[f'(x_{k-1})-f'(x_{k})]+\\frac{1}{12}(\\Delta x)^3\\,[f''(x_{k-1})+f''(x_{k})]+...$$\n",
    "So...\n",
    "$$\\intf=\\sum_{k=1}^N\\intk=\\frac{1}{2}\\Delta x\\,\\sum_{k=1}^N[f(x_{k-1})+f(x_{k})]+\\frac{1}{4}(\\Delta x)^2\\,\\sum_{k=1}^N[f'(x_{k-1})-f'(x_{k})]+\\\\\\frac{1}{12}(\\Delta x)^3\\,\\sum_{k=1}^N[f''(x_{k-1})+f''(x_{k})]+...$$\n",
    "\n",
    "## Part one: error in trapezoidal rule\n",
    "Notice that the expression, $\\frac{1}{2}\\Delta x\\,\\sum_{k=1}^N[f(x_{k-1})+f(x_{k})]$, is the approximation we use for Trapezoidal rule. Additionally, the expression, $\\frac{1}{2}\\Delta x\\,\\sum_{k=1}^N[f''(x_{k-1})+f''(x_{k})]$, is the Trapazoidal rule approximation of $\\int_a^bf''(x)\\,dx$. So...\n",
    "\n",
    "$$\\frac{1}{12}(\\Delta x)^3\\,\\sum_{k=1}^N\\,\\{[f''(x_{k-1})+f''(x_{k})]=\\frac{1}{6}(\\Delta x)^2\\int_a^bf''(x)\\,dx+...=\\frac{1}{6}(\\Delta x)^2[f'(b)-f'(a)]\\}+...$$\n",
    "\n",
    "Putting all this together...\n",
    "$$\\intf=\\sum_{k=1}^N\\intk=\\frac{1}{2}\\Delta x\\,\\sum_{k=1}^N[f(x_{k-1})+f(x_{k})]+\\frac{1}{12}(\\Delta x)^2[f'(b)-f'(a)]+...$$\n",
    "\n",
    "The last term is the error for trapezoidal rule. For small intervals...\n",
    "$$\\boxed{\\epsilon=\\frac{1}{12}(\\delta x)^2[f'(b)-f'(a)]}$$\n",
    "\n",
    "## Part two: error in Simpson's rule\n",
    "Part one took **way** too long to type. Here's the answer from the book...\n",
    "$$\\boxed{\\epsilon=\\frac{1}{90}(\\Delta x)^4[f'''(a)-f'''(b)]}$$\n",
    "\n"
   ]
  },
  {
   "cell_type": "markdown",
   "metadata": {
    "collapsed": true
   },
   "source": [
    "## X Extra Credit: animations\n",
    "\n",
    "Refer to: https://jakevdp.github.io/blog/2012/08/18/matplotlib-animation-tutorial/\n",
    "(Or any other matplotlib animation tutorial)\n",
    "\n",
    "Make an animated phase-shifted $J_0(x)$, analogous to the phase-shifted sine wave animation at the beginning of the above tutorial."
   ]
  },
  {
   "cell_type": "code",
   "execution_count": 89,
   "metadata": {
    "collapsed": false,
    "scrolled": false
   },
   "outputs": [
    {
     "data": {
      "application/javascript": [
       "/* Put everything inside the global mpl namespace */\n",
       "window.mpl = {};\n",
       "\n",
       "mpl.get_websocket_type = function() {\n",
       "    if (typeof(WebSocket) !== 'undefined') {\n",
       "        return WebSocket;\n",
       "    } else if (typeof(MozWebSocket) !== 'undefined') {\n",
       "        return MozWebSocket;\n",
       "    } else {\n",
       "        alert('Your browser does not have WebSocket support.' +\n",
       "              'Please try Chrome, Safari or Firefox ≥ 6. ' +\n",
       "              'Firefox 4 and 5 are also supported but you ' +\n",
       "              'have to enable WebSockets in about:config.');\n",
       "    };\n",
       "}\n",
       "\n",
       "mpl.figure = function(figure_id, websocket, ondownload, parent_element) {\n",
       "    this.id = figure_id;\n",
       "\n",
       "    this.ws = websocket;\n",
       "\n",
       "    this.supports_binary = (this.ws.binaryType != undefined);\n",
       "\n",
       "    if (!this.supports_binary) {\n",
       "        var warnings = document.getElementById(\"mpl-warnings\");\n",
       "        if (warnings) {\n",
       "            warnings.style.display = 'block';\n",
       "            warnings.textContent = (\n",
       "                \"This browser does not support binary websocket messages. \" +\n",
       "                    \"Performance may be slow.\");\n",
       "        }\n",
       "    }\n",
       "\n",
       "    this.imageObj = new Image();\n",
       "\n",
       "    this.context = undefined;\n",
       "    this.message = undefined;\n",
       "    this.canvas = undefined;\n",
       "    this.rubberband_canvas = undefined;\n",
       "    this.rubberband_context = undefined;\n",
       "    this.format_dropdown = undefined;\n",
       "\n",
       "    this.image_mode = 'full';\n",
       "\n",
       "    this.root = $('<div/>');\n",
       "    this._root_extra_style(this.root)\n",
       "    this.root.attr('style', 'display: inline-block');\n",
       "\n",
       "    $(parent_element).append(this.root);\n",
       "\n",
       "    this._init_header(this);\n",
       "    this._init_canvas(this);\n",
       "    this._init_toolbar(this);\n",
       "\n",
       "    var fig = this;\n",
       "\n",
       "    this.waiting = false;\n",
       "\n",
       "    this.ws.onopen =  function () {\n",
       "            fig.send_message(\"supports_binary\", {value: fig.supports_binary});\n",
       "            fig.send_message(\"send_image_mode\", {});\n",
       "            fig.send_message(\"refresh\", {});\n",
       "        }\n",
       "\n",
       "    this.imageObj.onload = function() {\n",
       "            if (fig.image_mode == 'full') {\n",
       "                // Full images could contain transparency (where diff images\n",
       "                // almost always do), so we need to clear the canvas so that\n",
       "                // there is no ghosting.\n",
       "                fig.context.clearRect(0, 0, fig.canvas.width, fig.canvas.height);\n",
       "            }\n",
       "            fig.context.drawImage(fig.imageObj, 0, 0);\n",
       "        };\n",
       "\n",
       "    this.imageObj.onunload = function() {\n",
       "        this.ws.close();\n",
       "    }\n",
       "\n",
       "    this.ws.onmessage = this._make_on_message_function(this);\n",
       "\n",
       "    this.ondownload = ondownload;\n",
       "}\n",
       "\n",
       "mpl.figure.prototype._init_header = function() {\n",
       "    var titlebar = $(\n",
       "        '<div class=\"ui-dialog-titlebar ui-widget-header ui-corner-all ' +\n",
       "        'ui-helper-clearfix\"/>');\n",
       "    var titletext = $(\n",
       "        '<div class=\"ui-dialog-title\" style=\"width: 100%; ' +\n",
       "        'text-align: center; padding: 3px;\"/>');\n",
       "    titlebar.append(titletext)\n",
       "    this.root.append(titlebar);\n",
       "    this.header = titletext[0];\n",
       "}\n",
       "\n",
       "\n",
       "\n",
       "mpl.figure.prototype._canvas_extra_style = function(canvas_div) {\n",
       "\n",
       "}\n",
       "\n",
       "\n",
       "mpl.figure.prototype._root_extra_style = function(canvas_div) {\n",
       "\n",
       "}\n",
       "\n",
       "mpl.figure.prototype._init_canvas = function() {\n",
       "    var fig = this;\n",
       "\n",
       "    var canvas_div = $('<div/>');\n",
       "\n",
       "    canvas_div.attr('style', 'position: relative; clear: both; outline: 0');\n",
       "\n",
       "    function canvas_keyboard_event(event) {\n",
       "        return fig.key_event(event, event['data']);\n",
       "    }\n",
       "\n",
       "    canvas_div.keydown('key_press', canvas_keyboard_event);\n",
       "    canvas_div.keyup('key_release', canvas_keyboard_event);\n",
       "    this.canvas_div = canvas_div\n",
       "    this._canvas_extra_style(canvas_div)\n",
       "    this.root.append(canvas_div);\n",
       "\n",
       "    var canvas = $('<canvas/>');\n",
       "    canvas.addClass('mpl-canvas');\n",
       "    canvas.attr('style', \"left: 0; top: 0; z-index: 0; outline: 0\")\n",
       "\n",
       "    this.canvas = canvas[0];\n",
       "    this.context = canvas[0].getContext(\"2d\");\n",
       "\n",
       "    var rubberband = $('<canvas/>');\n",
       "    rubberband.attr('style', \"position: absolute; left: 0; top: 0; z-index: 1;\")\n",
       "\n",
       "    var pass_mouse_events = true;\n",
       "\n",
       "    canvas_div.resizable({\n",
       "        start: function(event, ui) {\n",
       "            pass_mouse_events = false;\n",
       "        },\n",
       "        resize: function(event, ui) {\n",
       "            fig.request_resize(ui.size.width, ui.size.height);\n",
       "        },\n",
       "        stop: function(event, ui) {\n",
       "            pass_mouse_events = true;\n",
       "            fig.request_resize(ui.size.width, ui.size.height);\n",
       "        },\n",
       "    });\n",
       "\n",
       "    function mouse_event_fn(event) {\n",
       "        if (pass_mouse_events)\n",
       "            return fig.mouse_event(event, event['data']);\n",
       "    }\n",
       "\n",
       "    rubberband.mousedown('button_press', mouse_event_fn);\n",
       "    rubberband.mouseup('button_release', mouse_event_fn);\n",
       "    // Throttle sequential mouse events to 1 every 20ms.\n",
       "    rubberband.mousemove('motion_notify', mouse_event_fn);\n",
       "\n",
       "    rubberband.mouseenter('figure_enter', mouse_event_fn);\n",
       "    rubberband.mouseleave('figure_leave', mouse_event_fn);\n",
       "\n",
       "    canvas_div.on(\"wheel\", function (event) {\n",
       "        event = event.originalEvent;\n",
       "        event['data'] = 'scroll'\n",
       "        if (event.deltaY < 0) {\n",
       "            event.step = 1;\n",
       "        } else {\n",
       "            event.step = -1;\n",
       "        }\n",
       "        mouse_event_fn(event);\n",
       "    });\n",
       "\n",
       "    canvas_div.append(canvas);\n",
       "    canvas_div.append(rubberband);\n",
       "\n",
       "    this.rubberband = rubberband;\n",
       "    this.rubberband_canvas = rubberband[0];\n",
       "    this.rubberband_context = rubberband[0].getContext(\"2d\");\n",
       "    this.rubberband_context.strokeStyle = \"#000000\";\n",
       "\n",
       "    this._resize_canvas = function(width, height) {\n",
       "        // Keep the size of the canvas, canvas container, and rubber band\n",
       "        // canvas in synch.\n",
       "        canvas_div.css('width', width)\n",
       "        canvas_div.css('height', height)\n",
       "\n",
       "        canvas.attr('width', width);\n",
       "        canvas.attr('height', height);\n",
       "\n",
       "        rubberband.attr('width', width);\n",
       "        rubberband.attr('height', height);\n",
       "    }\n",
       "\n",
       "    // Set the figure to an initial 600x600px, this will subsequently be updated\n",
       "    // upon first draw.\n",
       "    this._resize_canvas(600, 600);\n",
       "\n",
       "    // Disable right mouse context menu.\n",
       "    $(this.rubberband_canvas).bind(\"contextmenu\",function(e){\n",
       "        return false;\n",
       "    });\n",
       "\n",
       "    function set_focus () {\n",
       "        canvas.focus();\n",
       "        canvas_div.focus();\n",
       "    }\n",
       "\n",
       "    window.setTimeout(set_focus, 100);\n",
       "}\n",
       "\n",
       "mpl.figure.prototype._init_toolbar = function() {\n",
       "    var fig = this;\n",
       "\n",
       "    var nav_element = $('<div/>')\n",
       "    nav_element.attr('style', 'width: 100%');\n",
       "    this.root.append(nav_element);\n",
       "\n",
       "    // Define a callback function for later on.\n",
       "    function toolbar_event(event) {\n",
       "        return fig.toolbar_button_onclick(event['data']);\n",
       "    }\n",
       "    function toolbar_mouse_event(event) {\n",
       "        return fig.toolbar_button_onmouseover(event['data']);\n",
       "    }\n",
       "\n",
       "    for(var toolbar_ind in mpl.toolbar_items) {\n",
       "        var name = mpl.toolbar_items[toolbar_ind][0];\n",
       "        var tooltip = mpl.toolbar_items[toolbar_ind][1];\n",
       "        var image = mpl.toolbar_items[toolbar_ind][2];\n",
       "        var method_name = mpl.toolbar_items[toolbar_ind][3];\n",
       "\n",
       "        if (!name) {\n",
       "            // put a spacer in here.\n",
       "            continue;\n",
       "        }\n",
       "        var button = $('<button/>');\n",
       "        button.addClass('ui-button ui-widget ui-state-default ui-corner-all ' +\n",
       "                        'ui-button-icon-only');\n",
       "        button.attr('role', 'button');\n",
       "        button.attr('aria-disabled', 'false');\n",
       "        button.click(method_name, toolbar_event);\n",
       "        button.mouseover(tooltip, toolbar_mouse_event);\n",
       "\n",
       "        var icon_img = $('<span/>');\n",
       "        icon_img.addClass('ui-button-icon-primary ui-icon');\n",
       "        icon_img.addClass(image);\n",
       "        icon_img.addClass('ui-corner-all');\n",
       "\n",
       "        var tooltip_span = $('<span/>');\n",
       "        tooltip_span.addClass('ui-button-text');\n",
       "        tooltip_span.html(tooltip);\n",
       "\n",
       "        button.append(icon_img);\n",
       "        button.append(tooltip_span);\n",
       "\n",
       "        nav_element.append(button);\n",
       "    }\n",
       "\n",
       "    var fmt_picker_span = $('<span/>');\n",
       "\n",
       "    var fmt_picker = $('<select/>');\n",
       "    fmt_picker.addClass('mpl-toolbar-option ui-widget ui-widget-content');\n",
       "    fmt_picker_span.append(fmt_picker);\n",
       "    nav_element.append(fmt_picker_span);\n",
       "    this.format_dropdown = fmt_picker[0];\n",
       "\n",
       "    for (var ind in mpl.extensions) {\n",
       "        var fmt = mpl.extensions[ind];\n",
       "        var option = $(\n",
       "            '<option/>', {selected: fmt === mpl.default_extension}).html(fmt);\n",
       "        fmt_picker.append(option)\n",
       "    }\n",
       "\n",
       "    // Add hover states to the ui-buttons\n",
       "    $( \".ui-button\" ).hover(\n",
       "        function() { $(this).addClass(\"ui-state-hover\");},\n",
       "        function() { $(this).removeClass(\"ui-state-hover\");}\n",
       "    );\n",
       "\n",
       "    var status_bar = $('<span class=\"mpl-message\"/>');\n",
       "    nav_element.append(status_bar);\n",
       "    this.message = status_bar[0];\n",
       "}\n",
       "\n",
       "mpl.figure.prototype.request_resize = function(x_pixels, y_pixels) {\n",
       "    // Request matplotlib to resize the figure. Matplotlib will then trigger a resize in the client,\n",
       "    // which will in turn request a refresh of the image.\n",
       "    this.send_message('resize', {'width': x_pixels, 'height': y_pixels});\n",
       "}\n",
       "\n",
       "mpl.figure.prototype.send_message = function(type, properties) {\n",
       "    properties['type'] = type;\n",
       "    properties['figure_id'] = this.id;\n",
       "    this.ws.send(JSON.stringify(properties));\n",
       "}\n",
       "\n",
       "mpl.figure.prototype.send_draw_message = function() {\n",
       "    if (!this.waiting) {\n",
       "        this.waiting = true;\n",
       "        this.ws.send(JSON.stringify({type: \"draw\", figure_id: this.id}));\n",
       "    }\n",
       "}\n",
       "\n",
       "\n",
       "mpl.figure.prototype.handle_save = function(fig, msg) {\n",
       "    var format_dropdown = fig.format_dropdown;\n",
       "    var format = format_dropdown.options[format_dropdown.selectedIndex].value;\n",
       "    fig.ondownload(fig, format);\n",
       "}\n",
       "\n",
       "\n",
       "mpl.figure.prototype.handle_resize = function(fig, msg) {\n",
       "    var size = msg['size'];\n",
       "    if (size[0] != fig.canvas.width || size[1] != fig.canvas.height) {\n",
       "        fig._resize_canvas(size[0], size[1]);\n",
       "        fig.send_message(\"refresh\", {});\n",
       "    };\n",
       "}\n",
       "\n",
       "mpl.figure.prototype.handle_rubberband = function(fig, msg) {\n",
       "    var x0 = msg['x0'];\n",
       "    var y0 = fig.canvas.height - msg['y0'];\n",
       "    var x1 = msg['x1'];\n",
       "    var y1 = fig.canvas.height - msg['y1'];\n",
       "    x0 = Math.floor(x0) + 0.5;\n",
       "    y0 = Math.floor(y0) + 0.5;\n",
       "    x1 = Math.floor(x1) + 0.5;\n",
       "    y1 = Math.floor(y1) + 0.5;\n",
       "    var min_x = Math.min(x0, x1);\n",
       "    var min_y = Math.min(y0, y1);\n",
       "    var width = Math.abs(x1 - x0);\n",
       "    var height = Math.abs(y1 - y0);\n",
       "\n",
       "    fig.rubberband_context.clearRect(\n",
       "        0, 0, fig.canvas.width, fig.canvas.height);\n",
       "\n",
       "    fig.rubberband_context.strokeRect(min_x, min_y, width, height);\n",
       "}\n",
       "\n",
       "mpl.figure.prototype.handle_figure_label = function(fig, msg) {\n",
       "    // Updates the figure title.\n",
       "    fig.header.textContent = msg['label'];\n",
       "}\n",
       "\n",
       "mpl.figure.prototype.handle_cursor = function(fig, msg) {\n",
       "    var cursor = msg['cursor'];\n",
       "    switch(cursor)\n",
       "    {\n",
       "    case 0:\n",
       "        cursor = 'pointer';\n",
       "        break;\n",
       "    case 1:\n",
       "        cursor = 'default';\n",
       "        break;\n",
       "    case 2:\n",
       "        cursor = 'crosshair';\n",
       "        break;\n",
       "    case 3:\n",
       "        cursor = 'move';\n",
       "        break;\n",
       "    }\n",
       "    fig.rubberband_canvas.style.cursor = cursor;\n",
       "}\n",
       "\n",
       "mpl.figure.prototype.handle_message = function(fig, msg) {\n",
       "    fig.message.textContent = msg['message'];\n",
       "}\n",
       "\n",
       "mpl.figure.prototype.handle_draw = function(fig, msg) {\n",
       "    // Request the server to send over a new figure.\n",
       "    fig.send_draw_message();\n",
       "}\n",
       "\n",
       "mpl.figure.prototype.handle_image_mode = function(fig, msg) {\n",
       "    fig.image_mode = msg['mode'];\n",
       "}\n",
       "\n",
       "mpl.figure.prototype.updated_canvas_event = function() {\n",
       "    // Called whenever the canvas gets updated.\n",
       "    this.send_message(\"ack\", {});\n",
       "}\n",
       "\n",
       "// A function to construct a web socket function for onmessage handling.\n",
       "// Called in the figure constructor.\n",
       "mpl.figure.prototype._make_on_message_function = function(fig) {\n",
       "    return function socket_on_message(evt) {\n",
       "        if (evt.data instanceof Blob) {\n",
       "            /* FIXME: We get \"Resource interpreted as Image but\n",
       "             * transferred with MIME type text/plain:\" errors on\n",
       "             * Chrome.  But how to set the MIME type?  It doesn't seem\n",
       "             * to be part of the websocket stream */\n",
       "            evt.data.type = \"image/png\";\n",
       "\n",
       "            /* Free the memory for the previous frames */\n",
       "            if (fig.imageObj.src) {\n",
       "                (window.URL || window.webkitURL).revokeObjectURL(\n",
       "                    fig.imageObj.src);\n",
       "            }\n",
       "\n",
       "            fig.imageObj.src = (window.URL || window.webkitURL).createObjectURL(\n",
       "                evt.data);\n",
       "            fig.updated_canvas_event();\n",
       "            fig.waiting = false;\n",
       "            return;\n",
       "        }\n",
       "        else if (typeof evt.data === 'string' && evt.data.slice(0, 21) == \"data:image/png;base64\") {\n",
       "            fig.imageObj.src = evt.data;\n",
       "            fig.updated_canvas_event();\n",
       "            fig.waiting = false;\n",
       "            return;\n",
       "        }\n",
       "\n",
       "        var msg = JSON.parse(evt.data);\n",
       "        var msg_type = msg['type'];\n",
       "\n",
       "        // Call the  \"handle_{type}\" callback, which takes\n",
       "        // the figure and JSON message as its only arguments.\n",
       "        try {\n",
       "            var callback = fig[\"handle_\" + msg_type];\n",
       "        } catch (e) {\n",
       "            console.log(\"No handler for the '\" + msg_type + \"' message type: \", msg);\n",
       "            return;\n",
       "        }\n",
       "\n",
       "        if (callback) {\n",
       "            try {\n",
       "                // console.log(\"Handling '\" + msg_type + \"' message: \", msg);\n",
       "                callback(fig, msg);\n",
       "            } catch (e) {\n",
       "                console.log(\"Exception inside the 'handler_\" + msg_type + \"' callback:\", e, e.stack, msg);\n",
       "            }\n",
       "        }\n",
       "    };\n",
       "}\n",
       "\n",
       "// from http://stackoverflow.com/questions/1114465/getting-mouse-location-in-canvas\n",
       "mpl.findpos = function(e) {\n",
       "    //this section is from http://www.quirksmode.org/js/events_properties.html\n",
       "    var targ;\n",
       "    if (!e)\n",
       "        e = window.event;\n",
       "    if (e.target)\n",
       "        targ = e.target;\n",
       "    else if (e.srcElement)\n",
       "        targ = e.srcElement;\n",
       "    if (targ.nodeType == 3) // defeat Safari bug\n",
       "        targ = targ.parentNode;\n",
       "\n",
       "    // jQuery normalizes the pageX and pageY\n",
       "    // pageX,Y are the mouse positions relative to the document\n",
       "    // offset() returns the position of the element relative to the document\n",
       "    var x = e.pageX - $(targ).offset().left;\n",
       "    var y = e.pageY - $(targ).offset().top;\n",
       "\n",
       "    return {\"x\": x, \"y\": y};\n",
       "};\n",
       "\n",
       "/*\n",
       " * return a copy of an object with only non-object keys\n",
       " * we need this to avoid circular references\n",
       " * http://stackoverflow.com/a/24161582/3208463\n",
       " */\n",
       "function simpleKeys (original) {\n",
       "  return Object.keys(original).reduce(function (obj, key) {\n",
       "    if (typeof original[key] !== 'object')\n",
       "        obj[key] = original[key]\n",
       "    return obj;\n",
       "  }, {});\n",
       "}\n",
       "\n",
       "mpl.figure.prototype.mouse_event = function(event, name) {\n",
       "    var canvas_pos = mpl.findpos(event)\n",
       "\n",
       "    if (name === 'button_press')\n",
       "    {\n",
       "        this.canvas.focus();\n",
       "        this.canvas_div.focus();\n",
       "    }\n",
       "\n",
       "    var x = canvas_pos.x;\n",
       "    var y = canvas_pos.y;\n",
       "\n",
       "    this.send_message(name, {x: x, y: y, button: event.button,\n",
       "                             step: event.step,\n",
       "                             guiEvent: simpleKeys(event)});\n",
       "\n",
       "    /* This prevents the web browser from automatically changing to\n",
       "     * the text insertion cursor when the button is pressed.  We want\n",
       "     * to control all of the cursor setting manually through the\n",
       "     * 'cursor' event from matplotlib */\n",
       "    event.preventDefault();\n",
       "    return false;\n",
       "}\n",
       "\n",
       "mpl.figure.prototype._key_event_extra = function(event, name) {\n",
       "    // Handle any extra behaviour associated with a key event\n",
       "}\n",
       "\n",
       "mpl.figure.prototype.key_event = function(event, name) {\n",
       "\n",
       "    // Prevent repeat events\n",
       "    if (name == 'key_press')\n",
       "    {\n",
       "        if (event.which === this._key)\n",
       "            return;\n",
       "        else\n",
       "            this._key = event.which;\n",
       "    }\n",
       "    if (name == 'key_release')\n",
       "        this._key = null;\n",
       "\n",
       "    var value = '';\n",
       "    if (event.ctrlKey && event.which != 17)\n",
       "        value += \"ctrl+\";\n",
       "    if (event.altKey && event.which != 18)\n",
       "        value += \"alt+\";\n",
       "    if (event.shiftKey && event.which != 16)\n",
       "        value += \"shift+\";\n",
       "\n",
       "    value += 'k';\n",
       "    value += event.which.toString();\n",
       "\n",
       "    this._key_event_extra(event, name);\n",
       "\n",
       "    this.send_message(name, {key: value,\n",
       "                             guiEvent: simpleKeys(event)});\n",
       "    return false;\n",
       "}\n",
       "\n",
       "mpl.figure.prototype.toolbar_button_onclick = function(name) {\n",
       "    if (name == 'download') {\n",
       "        this.handle_save(this, null);\n",
       "    } else {\n",
       "        this.send_message(\"toolbar_button\", {name: name});\n",
       "    }\n",
       "};\n",
       "\n",
       "mpl.figure.prototype.toolbar_button_onmouseover = function(tooltip) {\n",
       "    this.message.textContent = tooltip;\n",
       "};\n",
       "mpl.toolbar_items = [[\"Home\", \"Reset original view\", \"fa fa-home icon-home\", \"home\"], [\"Back\", \"Back to  previous view\", \"fa fa-arrow-left icon-arrow-left\", \"back\"], [\"Forward\", \"Forward to next view\", \"fa fa-arrow-right icon-arrow-right\", \"forward\"], [\"\", \"\", \"\", \"\"], [\"Pan\", \"Pan axes with left mouse, zoom with right\", \"fa fa-arrows icon-move\", \"pan\"], [\"Zoom\", \"Zoom to rectangle\", \"fa fa-square-o icon-check-empty\", \"zoom\"], [\"\", \"\", \"\", \"\"], [\"Download\", \"Download plot\", \"fa fa-floppy-o icon-save\", \"download\"]];\n",
       "\n",
       "mpl.extensions = [\"eps\", \"jpeg\", \"pdf\", \"png\", \"ps\", \"raw\", \"svg\", \"tif\"];\n",
       "\n",
       "mpl.default_extension = \"png\";var comm_websocket_adapter = function(comm) {\n",
       "    // Create a \"websocket\"-like object which calls the given IPython comm\n",
       "    // object with the appropriate methods. Currently this is a non binary\n",
       "    // socket, so there is still some room for performance tuning.\n",
       "    var ws = {};\n",
       "\n",
       "    ws.close = function() {\n",
       "        comm.close()\n",
       "    };\n",
       "    ws.send = function(m) {\n",
       "        //console.log('sending', m);\n",
       "        comm.send(m);\n",
       "    };\n",
       "    // Register the callback with on_msg.\n",
       "    comm.on_msg(function(msg) {\n",
       "        //console.log('receiving', msg['content']['data'], msg);\n",
       "        // Pass the mpl event to the overriden (by mpl) onmessage function.\n",
       "        ws.onmessage(msg['content']['data'])\n",
       "    });\n",
       "    return ws;\n",
       "}\n",
       "\n",
       "mpl.mpl_figure_comm = function(comm, msg) {\n",
       "    // This is the function which gets called when the mpl process\n",
       "    // starts-up an IPython Comm through the \"matplotlib\" channel.\n",
       "\n",
       "    var id = msg.content.data.id;\n",
       "    // Get hold of the div created by the display call when the Comm\n",
       "    // socket was opened in Python.\n",
       "    var element = $(\"#\" + id);\n",
       "    var ws_proxy = comm_websocket_adapter(comm)\n",
       "\n",
       "    function ondownload(figure, format) {\n",
       "        window.open(figure.imageObj.src);\n",
       "    }\n",
       "\n",
       "    var fig = new mpl.figure(id, ws_proxy,\n",
       "                           ondownload,\n",
       "                           element.get(0));\n",
       "\n",
       "    // Call onopen now - mpl needs it, as it is assuming we've passed it a real\n",
       "    // web socket which is closed, not our websocket->open comm proxy.\n",
       "    ws_proxy.onopen();\n",
       "\n",
       "    fig.parent_element = element.get(0);\n",
       "    fig.cell_info = mpl.find_output_cell(\"<div id='\" + id + \"'></div>\");\n",
       "    if (!fig.cell_info) {\n",
       "        console.error(\"Failed to find cell for figure\", id, fig);\n",
       "        return;\n",
       "    }\n",
       "\n",
       "    var output_index = fig.cell_info[2]\n",
       "    var cell = fig.cell_info[0];\n",
       "\n",
       "};\n",
       "\n",
       "mpl.figure.prototype.handle_close = function(fig, msg) {\n",
       "    fig.root.unbind('remove')\n",
       "\n",
       "    // Update the output cell to use the data from the current canvas.\n",
       "    fig.push_to_output();\n",
       "    var dataURL = fig.canvas.toDataURL();\n",
       "    // Re-enable the keyboard manager in IPython - without this line, in FF,\n",
       "    // the notebook keyboard shortcuts fail.\n",
       "    IPython.keyboard_manager.enable()\n",
       "    $(fig.parent_element).html('<img src=\"' + dataURL + '\">');\n",
       "    fig.close_ws(fig, msg);\n",
       "}\n",
       "\n",
       "mpl.figure.prototype.close_ws = function(fig, msg){\n",
       "    fig.send_message('closing', msg);\n",
       "    // fig.ws.close()\n",
       "}\n",
       "\n",
       "mpl.figure.prototype.push_to_output = function(remove_interactive) {\n",
       "    // Turn the data on the canvas into data in the output cell.\n",
       "    var dataURL = this.canvas.toDataURL();\n",
       "    this.cell_info[1]['text/html'] = '<img src=\"' + dataURL + '\">';\n",
       "}\n",
       "\n",
       "mpl.figure.prototype.updated_canvas_event = function() {\n",
       "    // Tell IPython that the notebook contents must change.\n",
       "    IPython.notebook.set_dirty(true);\n",
       "    this.send_message(\"ack\", {});\n",
       "    var fig = this;\n",
       "    // Wait a second, then push the new image to the DOM so\n",
       "    // that it is saved nicely (might be nice to debounce this).\n",
       "    setTimeout(function () { fig.push_to_output() }, 1000);\n",
       "}\n",
       "\n",
       "mpl.figure.prototype._init_toolbar = function() {\n",
       "    var fig = this;\n",
       "\n",
       "    var nav_element = $('<div/>')\n",
       "    nav_element.attr('style', 'width: 100%');\n",
       "    this.root.append(nav_element);\n",
       "\n",
       "    // Define a callback function for later on.\n",
       "    function toolbar_event(event) {\n",
       "        return fig.toolbar_button_onclick(event['data']);\n",
       "    }\n",
       "    function toolbar_mouse_event(event) {\n",
       "        return fig.toolbar_button_onmouseover(event['data']);\n",
       "    }\n",
       "\n",
       "    for(var toolbar_ind in mpl.toolbar_items){\n",
       "        var name = mpl.toolbar_items[toolbar_ind][0];\n",
       "        var tooltip = mpl.toolbar_items[toolbar_ind][1];\n",
       "        var image = mpl.toolbar_items[toolbar_ind][2];\n",
       "        var method_name = mpl.toolbar_items[toolbar_ind][3];\n",
       "\n",
       "        if (!name) { continue; };\n",
       "\n",
       "        var button = $('<button class=\"btn btn-default\" href=\"#\" title=\"' + name + '\"><i class=\"fa ' + image + ' fa-lg\"></i></button>');\n",
       "        button.click(method_name, toolbar_event);\n",
       "        button.mouseover(tooltip, toolbar_mouse_event);\n",
       "        nav_element.append(button);\n",
       "    }\n",
       "\n",
       "    // Add the status bar.\n",
       "    var status_bar = $('<span class=\"mpl-message\" style=\"text-align:right; float: right;\"/>');\n",
       "    nav_element.append(status_bar);\n",
       "    this.message = status_bar[0];\n",
       "\n",
       "    // Add the close button to the window.\n",
       "    var buttongrp = $('<div class=\"btn-group inline pull-right\"></div>');\n",
       "    var button = $('<button class=\"btn btn-mini btn-primary\" href=\"#\" title=\"Stop Interaction\"><i class=\"fa fa-power-off icon-remove icon-large\"></i></button>');\n",
       "    button.click(function (evt) { fig.handle_close(fig, {}); } );\n",
       "    button.mouseover('Stop Interaction', toolbar_mouse_event);\n",
       "    buttongrp.append(button);\n",
       "    var titlebar = this.root.find($('.ui-dialog-titlebar'));\n",
       "    titlebar.prepend(buttongrp);\n",
       "}\n",
       "\n",
       "mpl.figure.prototype._root_extra_style = function(el){\n",
       "    var fig = this\n",
       "    el.on(\"remove\", function(){\n",
       "\tfig.close_ws(fig, {});\n",
       "    });\n",
       "}\n",
       "\n",
       "mpl.figure.prototype._canvas_extra_style = function(el){\n",
       "    // this is important to make the div 'focusable\n",
       "    el.attr('tabindex', 0)\n",
       "    // reach out to IPython and tell the keyboard manager to turn it's self\n",
       "    // off when our div gets focus\n",
       "\n",
       "    // location in version 3\n",
       "    if (IPython.notebook.keyboard_manager) {\n",
       "        IPython.notebook.keyboard_manager.register_events(el);\n",
       "    }\n",
       "    else {\n",
       "        // location in version 2\n",
       "        IPython.keyboard_manager.register_events(el);\n",
       "    }\n",
       "\n",
       "}\n",
       "\n",
       "mpl.figure.prototype._key_event_extra = function(event, name) {\n",
       "    var manager = IPython.notebook.keyboard_manager;\n",
       "    if (!manager)\n",
       "        manager = IPython.keyboard_manager;\n",
       "\n",
       "    // Check for shift+enter\n",
       "    if (event.shiftKey && event.which == 13) {\n",
       "        this.canvas_div.blur();\n",
       "        event.shiftKey = false;\n",
       "        // Send a \"J\" for go to next cell\n",
       "        event.which = 74;\n",
       "        event.keyCode = 74;\n",
       "        manager.command_mode();\n",
       "        manager.handle_keydown(event);\n",
       "    }\n",
       "}\n",
       "\n",
       "mpl.figure.prototype.handle_save = function(fig, msg) {\n",
       "    fig.ondownload(fig, null);\n",
       "}\n",
       "\n",
       "\n",
       "mpl.find_output_cell = function(html_output) {\n",
       "    // Return the cell and output element which can be found *uniquely* in the notebook.\n",
       "    // Note - this is a bit hacky, but it is done because the \"notebook_saving.Notebook\"\n",
       "    // IPython event is triggered only after the cells have been serialised, which for\n",
       "    // our purposes (turning an active figure into a static one), is too late.\n",
       "    var cells = IPython.notebook.get_cells();\n",
       "    var ncells = cells.length;\n",
       "    for (var i=0; i<ncells; i++) {\n",
       "        var cell = cells[i];\n",
       "        if (cell.cell_type === 'code'){\n",
       "            for (var j=0; j<cell.output_area.outputs.length; j++) {\n",
       "                var data = cell.output_area.outputs[j];\n",
       "                if (data.data) {\n",
       "                    // IPython >= 3 moved mimebundle to data attribute of output\n",
       "                    data = data.data;\n",
       "                }\n",
       "                if (data['text/html'] == html_output) {\n",
       "                    return [cell, data, j];\n",
       "                }\n",
       "            }\n",
       "        }\n",
       "    }\n",
       "}\n",
       "\n",
       "// Register the function which deals with the matplotlib target/channel.\n",
       "// The kernel may be null if the page has been refreshed.\n",
       "if (IPython.notebook.kernel != null) {\n",
       "    IPython.notebook.kernel.comm_manager.register_target('matplotlib', mpl.mpl_figure_comm);\n",
       "}\n"
      ],
      "text/plain": [
       "<IPython.core.display.Javascript object>"
      ]
     },
     "metadata": {},
     "output_type": "display_data"
    },
    {
     "data": {
      "text/html": [
       "<img src=\"data:image/png;base64,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\">"
      ],
      "text/plain": [
       "<IPython.core.display.HTML object>"
      ]
     },
     "metadata": {},
     "output_type": "display_data"
    }
   ],
   "source": [
    "%matplotlib notebook\n",
    "from matplotlib.animation import FuncAnimation as ThisIsCool\n",
    "from matplotlib import rc\n",
    "from IPython.display import HTML\n",
    "from tempfile import NamedTemporaryFile\n",
    "\n",
    "fig=plt.figure()\n",
    "ax=plt.axes(xlim=(0,20),ylim=(-1,1))\n",
    "line0,=ax.plot([],[],lw=2,color='red',label='$J_0$')\n",
    "#line1,=ax.plot([],[],lw=2,color='blue',label='$J_1$')\n",
    "#line0_app,=ax.plot([],[],lw=2,color='red',ls='--',label='$J_0\\,\\,\\mathrm{approximate\\,\\,function}$')\n",
    "#line1_app,=ax.plot([],[],lw=2,color='blue',ls='--',label='$J_1\\,\\,\\mathrm{approximate\\,\\,function}$')\n",
    "\n",
    "def animate(i):\n",
    "    x=np.linspace(0.01,20,50)\n",
    "    y0=Jnp(0,x+i)\n",
    "    #y1=Jnp(1,x+i)\n",
    "    #y0_app=fmnp(0,x+i)\n",
    "    #y1_app=fmnp(1,x+i)\n",
    "    line0.set_data(x,y0)\n",
    "    #line1.set_data(x,y1)\n",
    "    #line0_app.set_data(x,y0_app)\n",
    "    #line1_app.set_data(x,y1_app)\n",
    "    return line0, #line1, line0_app, line1_app,\n",
    "\n",
    "plt.legend(loc='upper right',fontsize=15)\n",
    "anim=ThisIsCool(fig,animate,frames=1000,interval=1,blit=True)"
   ]
  },
  {
   "cell_type": "code",
   "execution_count": null,
   "metadata": {
    "collapsed": true
   },
   "outputs": [],
   "source": []
  }
 ],
 "metadata": {
  "celltoolbar": "Raw Cell Format",
  "kernelspec": {
   "display_name": "Python 2",
   "language": "python",
   "name": "python2"
  },
  "language_info": {
   "codemirror_mode": {
    "name": "ipython",
    "version": 2
   },
   "file_extension": ".py",
   "mimetype": "text/x-python",
   "name": "python",
   "nbconvert_exporter": "python",
   "pygments_lexer": "ipython2",
   "version": "2.7.11"
  }
 },
 "nbformat": 4,
 "nbformat_minor": 1
}
